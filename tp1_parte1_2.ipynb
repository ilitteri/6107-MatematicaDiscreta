{
  "nbformat": 4,
  "nbformat_minor": 0,
  "metadata": {
    "colab": {
      "name": "tp1_parte1_2.ipynb",
      "provenance": [],
      "collapsed_sections": [],
      "mount_file_id": "1-xw0zUPq0UWDEr6pNDcy3QzZVjjird7C",
      "authorship_tag": "ABX9TyMY2bOkds7QRIDBZvUQNxrm",
      "include_colab_link": true
    },
    "kernelspec": {
      "name": "python3",
      "display_name": "Python 3"
    },
    "language_info": {
      "name": "python"
    }
  },
  "cells": [
    {
      "cell_type": "markdown",
      "metadata": {
        "id": "view-in-github",
        "colab_type": "text"
      },
      "source": [
        "<a href=\"https://colab.research.google.com/github/ilitteri/6107-MatematicaDiscreta/blob/master/tp1_parte1_2.ipynb\" target=\"_parent\"><img src=\"https://colab.research.google.com/assets/colab-badge.svg\" alt=\"Open In Colab\"/></a>"
      ]
    },
    {
      "cell_type": "code",
      "execution_count": 1,
      "metadata": {
        "id": "WT4wzt42XAIf",
        "colab": {
          "base_uri": "https://localhost:8080/"
        },
        "outputId": "b5638c3d-7755-41ea-a428-e7624d11365f"
      },
      "outputs": [
        {
          "output_type": "stream",
          "name": "stdout",
          "text": [
            "[nltk_data] Downloading package punkt to /root/nltk_data...\n",
            "[nltk_data]   Package punkt is already up-to-date!\n",
            "[nltk_data] Downloading package stopwords to /root/nltk_data...\n",
            "[nltk_data]   Unzipping corpora/stopwords.zip.\n"
          ]
        },
        {
          "output_type": "execute_result",
          "data": {
            "text/plain": [
              "True"
            ]
          },
          "metadata": {},
          "execution_count": 1
        }
      ],
      "source": [
        "import pandas as pd\n",
        "import nltk\n",
        "from nltk.corpus import stopwords\n",
        "\n",
        "nltk.download('punkt')\n",
        "nltk.download('stopwords')"
      ]
    },
    {
      "cell_type": "code",
      "source": [
        "def path_for(dataset: str) -> str:\n",
        "    return f'/content/drive/MyDrive/Dataset/{dataset}.csv'"
      ],
      "metadata": {
        "id": "UIGRfkXraRYN"
      },
      "execution_count": 2,
      "outputs": []
    },
    {
      "cell_type": "code",
      "source": [
        "review = pd.read_csv(path_for(\"review\"))"
      ],
      "metadata": {
        "id": "24bls5OqrV7q"
      },
      "execution_count": 3,
      "outputs": []
    },
    {
      "cell_type": "markdown",
      "source": [
        "# N4\n",
        "¿Cuál es el la review con menor ratio de stopwords en función de su longitud para aquellas que tienen por lo menos 100 caracteres?"
      ],
      "metadata": {
        "id": "UbvnWfBN0vCm"
      }
    },
    {
      "cell_type": "code",
      "source": [
        "reviews_texts_with_more_than_100_chars = review[review['text'].str.len() > 100]"
      ],
      "metadata": {
        "id": "LzC7BaNk7wFY"
      },
      "execution_count": 4,
      "outputs": []
    },
    {
      "cell_type": "code",
      "source": [
        "def calculate_stopword_ratio(text):\n",
        "    tokenized_text = nltk.word_tokenize(text)\n",
        "    word_count = len(tokenized_text)\n",
        "    stopword_count = 0\n",
        "    nltk_stopwords = stopwords.words('english')\n",
        "    for word in tokenized_text:\n",
        "        if word in nltk_stopwords:\n",
        "            stopword_count += 1\n",
        "    return stopword_count / word_count"
      ],
      "metadata": {
        "id": "68lD-bzQI41d"
      },
      "execution_count": 9,
      "outputs": []
    },
    {
      "cell_type": "code",
      "source": [
        "reviews_texts_with_more_than_100_chars['text'].map(calculate_stopword_ratio)"
      ],
      "metadata": {
        "colab": {
          "base_uri": "https://localhost:8080/"
        },
        "id": "NMI9go137Bn9",
        "outputId": "b26c69d3-c40e-4e99-8aaf-287d683d9a78"
      },
      "execution_count": 6,
      "outputs": [
        {
          "output_type": "execute_result",
          "data": {
            "text/plain": [
              "0          0.429825\n",
              "1          0.243243\n",
              "2          0.443787\n",
              "3          0.346939\n",
              "4          0.309524\n",
              "             ...   \n",
              "3838100    0.390244\n",
              "3838101    0.344444\n",
              "3838102    0.396040\n",
              "3838103    0.268750\n",
              "3838104    0.368000\n",
              "Name: text, Length: 3722641, dtype: float64"
            ]
          },
          "metadata": {},
          "execution_count": 6
        }
      ]
    },
    {
      "cell_type": "code",
      "source": [
        "a = reviews_texts_with_more_than_100_chars['text'].map(calculate_stopword_ratio)"
      ],
      "metadata": {
        "id": "1bC91yL6g5PN"
      },
      "execution_count": 10,
      "outputs": []
    },
    {
      "cell_type": "code",
      "source": [
        "a.sort_values().head(1).index.tolist()[0]"
      ],
      "metadata": {
        "colab": {
          "base_uri": "https://localhost:8080/"
        },
        "id": "AWsTQ5641QC6",
        "outputId": "e18dd444-d866-46f9-ef52-33179e597c3d"
      },
      "execution_count": 29,
      "outputs": [
        {
          "output_type": "execute_result",
          "data": {
            "text/plain": [
              "[2592693]"
            ]
          },
          "metadata": {},
          "execution_count": 29
        }
      ]
    },
    {
      "cell_type": "code",
      "source": [
        "print(\"La review con menor ratio de stopwords en función de su longitud para aquellas que tienen más de 100 caracteres es:\", reviews_texts_with_more_than_100_chars.iloc[a.sort_values().head(1).index.tolist()[0]]['review_id'])"
      ],
      "metadata": {
        "colab": {
          "base_uri": "https://localhost:8080/"
        },
        "id": "5bkaLchI5BIe",
        "outputId": "ca2f256f-f757-482b-a8e3-d6604c2f5e61"
      },
      "execution_count": 33,
      "outputs": [
        {
          "output_type": "stream",
          "name": "stdout",
          "text": [
            "La review con menor ratio de stopwords en función de su longitud para aquellas que tienen más de 100 caracteres es: disqAww75RTbeRukABROnQ\n"
          ]
        }
      ]
    }
  ]
}